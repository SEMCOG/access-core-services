{
 "metadata": {
  "name": "",
  "signature": "sha256:bb02109192362d5b0787ca8211568c507f0c52f5b2850999508f96ca2b713695"
 },
 "nbformat": 3,
 "nbformat_minor": 0,
 "worksheets": []
}